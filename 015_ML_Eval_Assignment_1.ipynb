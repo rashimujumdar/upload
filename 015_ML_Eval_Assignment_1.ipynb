{
 "cells": [
  {
   "cell_type": "code",
   "execution_count": null,
   "id": "db7a56bd",
   "metadata": {},
   "outputs": [],
   "source": [
    "#!/usr/bin/env python3\n",
    "# -*- coding: utf-8 -*-"
   ]
  },
  {
   "cell_type": "markdown",
   "id": "e0d6f09d",
   "metadata": {},
   "source": [
    "**PRN**:                  220940141015<br>\n",
    "**Name of Student**:      Pankaj Gharde<br>\n",
    "**Date of Submission**:   Feb 22, 2023<br>"
   ]
  },
  {
   "cell_type": "markdown",
   "id": "4be194ce",
   "metadata": {},
   "source": [
    "# Introduction to Machine Learning, Artificial Intelligence and Deep Learning\n",
    "## PG-DHPCAP September 2022\n",
    "\n",
    "\n",
    "# Lab Exam 1\n",
    "## Total marks: 40"
   ]
  },
  {
   "cell_type": "markdown",
   "id": "2688bdb6",
   "metadata": {},
   "source": [
    "## Instruction:\n",
    "<div class=\"alert alert-block alert-warning\" style=\"font-family: Arial; font-size:1.2em;\">   \n",
    "   <b>Follow these instructions carefully.</b>\n",
    "       <li>Your code shall be free of any compilation error. If your code fails in compilation, your submission will be <b><i>rejected</i></b>.</li>\n",
    "       <li>Put comments to explain your code. Explain your steps in details. Marks depend on the comments/explanation.</li>\n",
    "       <li>Do not <b>REMOVE</b> any cell.If you delete any cell, your submission may become invalid.</li>\n",
    "       <li>Your code shall be within the lines marked for the purpose.</li>\n",
    "       <li>Upload the file to the designated location by renaming as <strong>PRN_{PRN # last 3 digits}_ML_Eval_Assignment_1.ipynb</strong></li>\n",
    "    </ol>\n",
    "    <b>Important:</b>Your code shall be between lines marked thus. \n",
    "</div>\n",
    "\n",
    ">`#### START YOUR CODE`\n",
    "\n",
    "\n",
    "\n",
    ">`#### END YOUR CODE`"
   ]
  },
  {
   "cell_type": "markdown",
   "id": "47cda774",
   "metadata": {},
   "source": [
    "## Question 1\n",
    "<div class=\"alert alert-block alert-warning\" style=\"font-family: Arial; font-size:1.2em;\">   \n",
    "    Load <b>Digits</b> Data set from SKLearn and classify using <b>K-nearest neighbors</b>.\n",
    "    </div>"
   ]
  },
  {
   "cell_type": "markdown",
   "id": "f2f42ac4",
   "metadata": {},
   "source": [
    "### Q 1.1 Import Statements (5 marks)\n",
    "\n",
    "Import all the libraries you may need for successful execution of your code."
   ]
  },
  {
   "cell_type": "code",
   "execution_count": 44,
   "id": "92194a7d",
   "metadata": {},
   "outputs": [],
   "source": [
    "#### START YOUR CODE\n",
    "import numpy as np\n",
    "import pandas as pd\n",
    "import matplotlib\n",
    "from sklearn import datasets\n",
    "import seaborn as sns\n",
    "import matplotlib.pyplot as plt\n",
    "from sklearn import datasets\n",
    "from sklearn.model_selection import train_test_split\n",
    "from sklearn.neighbors import KNeighborsClassifier\n",
    "from sklearn.model_selection import GridSearchCV\n",
    "from sklearn.metrics import confusion_matrix\n",
    "#### END YOUR CODE"
   ]
  },
  {
   "cell_type": "markdown",
   "id": "70b778f1",
   "metadata": {},
   "source": [
    "### Q 1.2 Load dataset and split in test and training dataset. -  (5 marks)"
   ]
  },
  {
   "cell_type": "code",
   "execution_count": 34,
   "id": "2513ae3d",
   "metadata": {},
   "outputs": [
    {
     "data": {
      "text/plain": [
       "dict_keys(['data', 'target', 'frame', 'feature_names', 'target_names', 'images', 'DESCR'])"
      ]
     },
     "execution_count": 34,
     "metadata": {},
     "output_type": "execute_result"
    }
   ],
   "source": [
    "#### START YOUR CODE\n",
    "digits= datasets.load_digits()\n",
    "digits.keys()"
   ]
  },
  {
   "cell_type": "code",
   "execution_count": 35,
   "id": "798765d9",
   "metadata": {},
   "outputs": [
    {
     "data": {
      "text/html": [
       "<div>\n",
       "<style scoped>\n",
       "    .dataframe tbody tr th:only-of-type {\n",
       "        vertical-align: middle;\n",
       "    }\n",
       "\n",
       "    .dataframe tbody tr th {\n",
       "        vertical-align: top;\n",
       "    }\n",
       "\n",
       "    .dataframe thead th {\n",
       "        text-align: right;\n",
       "    }\n",
       "</style>\n",
       "<table border=\"1\" class=\"dataframe\">\n",
       "  <thead>\n",
       "    <tr style=\"text-align: right;\">\n",
       "      <th></th>\n",
       "      <th>pixel_0_0</th>\n",
       "      <th>pixel_0_1</th>\n",
       "      <th>pixel_0_2</th>\n",
       "      <th>pixel_0_3</th>\n",
       "      <th>pixel_0_4</th>\n",
       "      <th>pixel_0_5</th>\n",
       "      <th>pixel_0_6</th>\n",
       "      <th>pixel_0_7</th>\n",
       "      <th>pixel_1_0</th>\n",
       "      <th>pixel_1_1</th>\n",
       "      <th>...</th>\n",
       "      <th>pixel_6_7</th>\n",
       "      <th>pixel_7_0</th>\n",
       "      <th>pixel_7_1</th>\n",
       "      <th>pixel_7_2</th>\n",
       "      <th>pixel_7_3</th>\n",
       "      <th>pixel_7_4</th>\n",
       "      <th>pixel_7_5</th>\n",
       "      <th>pixel_7_6</th>\n",
       "      <th>pixel_7_7</th>\n",
       "      <th>target</th>\n",
       "    </tr>\n",
       "  </thead>\n",
       "  <tbody>\n",
       "    <tr>\n",
       "      <th>0</th>\n",
       "      <td>0.0</td>\n",
       "      <td>0.0</td>\n",
       "      <td>5.0</td>\n",
       "      <td>13.0</td>\n",
       "      <td>9.0</td>\n",
       "      <td>1.0</td>\n",
       "      <td>0.0</td>\n",
       "      <td>0.0</td>\n",
       "      <td>0.0</td>\n",
       "      <td>0.0</td>\n",
       "      <td>...</td>\n",
       "      <td>0.0</td>\n",
       "      <td>0.0</td>\n",
       "      <td>0.0</td>\n",
       "      <td>6.0</td>\n",
       "      <td>13.0</td>\n",
       "      <td>10.0</td>\n",
       "      <td>0.0</td>\n",
       "      <td>0.0</td>\n",
       "      <td>0.0</td>\n",
       "      <td>0</td>\n",
       "    </tr>\n",
       "    <tr>\n",
       "      <th>1</th>\n",
       "      <td>0.0</td>\n",
       "      <td>0.0</td>\n",
       "      <td>0.0</td>\n",
       "      <td>12.0</td>\n",
       "      <td>13.0</td>\n",
       "      <td>5.0</td>\n",
       "      <td>0.0</td>\n",
       "      <td>0.0</td>\n",
       "      <td>0.0</td>\n",
       "      <td>0.0</td>\n",
       "      <td>...</td>\n",
       "      <td>0.0</td>\n",
       "      <td>0.0</td>\n",
       "      <td>0.0</td>\n",
       "      <td>0.0</td>\n",
       "      <td>11.0</td>\n",
       "      <td>16.0</td>\n",
       "      <td>10.0</td>\n",
       "      <td>0.0</td>\n",
       "      <td>0.0</td>\n",
       "      <td>1</td>\n",
       "    </tr>\n",
       "    <tr>\n",
       "      <th>2</th>\n",
       "      <td>0.0</td>\n",
       "      <td>0.0</td>\n",
       "      <td>0.0</td>\n",
       "      <td>4.0</td>\n",
       "      <td>15.0</td>\n",
       "      <td>12.0</td>\n",
       "      <td>0.0</td>\n",
       "      <td>0.0</td>\n",
       "      <td>0.0</td>\n",
       "      <td>0.0</td>\n",
       "      <td>...</td>\n",
       "      <td>0.0</td>\n",
       "      <td>0.0</td>\n",
       "      <td>0.0</td>\n",
       "      <td>0.0</td>\n",
       "      <td>3.0</td>\n",
       "      <td>11.0</td>\n",
       "      <td>16.0</td>\n",
       "      <td>9.0</td>\n",
       "      <td>0.0</td>\n",
       "      <td>2</td>\n",
       "    </tr>\n",
       "    <tr>\n",
       "      <th>3</th>\n",
       "      <td>0.0</td>\n",
       "      <td>0.0</td>\n",
       "      <td>7.0</td>\n",
       "      <td>15.0</td>\n",
       "      <td>13.0</td>\n",
       "      <td>1.0</td>\n",
       "      <td>0.0</td>\n",
       "      <td>0.0</td>\n",
       "      <td>0.0</td>\n",
       "      <td>8.0</td>\n",
       "      <td>...</td>\n",
       "      <td>0.0</td>\n",
       "      <td>0.0</td>\n",
       "      <td>0.0</td>\n",
       "      <td>7.0</td>\n",
       "      <td>13.0</td>\n",
       "      <td>13.0</td>\n",
       "      <td>9.0</td>\n",
       "      <td>0.0</td>\n",
       "      <td>0.0</td>\n",
       "      <td>3</td>\n",
       "    </tr>\n",
       "    <tr>\n",
       "      <th>4</th>\n",
       "      <td>0.0</td>\n",
       "      <td>0.0</td>\n",
       "      <td>0.0</td>\n",
       "      <td>1.0</td>\n",
       "      <td>11.0</td>\n",
       "      <td>0.0</td>\n",
       "      <td>0.0</td>\n",
       "      <td>0.0</td>\n",
       "      <td>0.0</td>\n",
       "      <td>0.0</td>\n",
       "      <td>...</td>\n",
       "      <td>0.0</td>\n",
       "      <td>0.0</td>\n",
       "      <td>0.0</td>\n",
       "      <td>0.0</td>\n",
       "      <td>2.0</td>\n",
       "      <td>16.0</td>\n",
       "      <td>4.0</td>\n",
       "      <td>0.0</td>\n",
       "      <td>0.0</td>\n",
       "      <td>4</td>\n",
       "    </tr>\n",
       "  </tbody>\n",
       "</table>\n",
       "<p>5 rows × 65 columns</p>\n",
       "</div>"
      ],
      "text/plain": [
       "   pixel_0_0  pixel_0_1  pixel_0_2  pixel_0_3  pixel_0_4  pixel_0_5  \\\n",
       "0        0.0        0.0        5.0       13.0        9.0        1.0   \n",
       "1        0.0        0.0        0.0       12.0       13.0        5.0   \n",
       "2        0.0        0.0        0.0        4.0       15.0       12.0   \n",
       "3        0.0        0.0        7.0       15.0       13.0        1.0   \n",
       "4        0.0        0.0        0.0        1.0       11.0        0.0   \n",
       "\n",
       "   pixel_0_6  pixel_0_7  pixel_1_0  pixel_1_1  ...  pixel_6_7  pixel_7_0  \\\n",
       "0        0.0        0.0        0.0        0.0  ...        0.0        0.0   \n",
       "1        0.0        0.0        0.0        0.0  ...        0.0        0.0   \n",
       "2        0.0        0.0        0.0        0.0  ...        0.0        0.0   \n",
       "3        0.0        0.0        0.0        8.0  ...        0.0        0.0   \n",
       "4        0.0        0.0        0.0        0.0  ...        0.0        0.0   \n",
       "\n",
       "   pixel_7_1  pixel_7_2  pixel_7_3  pixel_7_4  pixel_7_5  pixel_7_6  \\\n",
       "0        0.0        6.0       13.0       10.0        0.0        0.0   \n",
       "1        0.0        0.0       11.0       16.0       10.0        0.0   \n",
       "2        0.0        0.0        3.0       11.0       16.0        9.0   \n",
       "3        0.0        7.0       13.0       13.0        9.0        0.0   \n",
       "4        0.0        0.0        2.0       16.0        4.0        0.0   \n",
       "\n",
       "   pixel_7_7  target  \n",
       "0        0.0       0  \n",
       "1        0.0       1  \n",
       "2        0.0       2  \n",
       "3        0.0       3  \n",
       "4        0.0       4  \n",
       "\n",
       "[5 rows x 65 columns]"
      ]
     },
     "execution_count": 35,
     "metadata": {},
     "output_type": "execute_result"
    }
   ],
   "source": [
    "df = pd.DataFrame(digits.data, columns=digits.feature_names)\n",
    "df['target'] = digits.target\n",
    "df.head()"
   ]
  },
  {
   "cell_type": "code",
   "execution_count": 39,
   "id": "7cea7c30",
   "metadata": {},
   "outputs": [],
   "source": [
    "X_train, X_test, y_train, y_test = train_test_split(df.drop('target',axis='columns'), df.target, test_size=0.2, random_state=2)"
   ]
  },
  {
   "cell_type": "code",
   "execution_count": 40,
   "id": "24a6fd1a",
   "metadata": {},
   "outputs": [
    {
     "data": {
      "text/html": [
       "<style>#sk-container-id-1 {color: black;background-color: white;}#sk-container-id-1 pre{padding: 0;}#sk-container-id-1 div.sk-toggleable {background-color: white;}#sk-container-id-1 label.sk-toggleable__label {cursor: pointer;display: block;width: 100%;margin-bottom: 0;padding: 0.3em;box-sizing: border-box;text-align: center;}#sk-container-id-1 label.sk-toggleable__label-arrow:before {content: \"▸\";float: left;margin-right: 0.25em;color: #696969;}#sk-container-id-1 label.sk-toggleable__label-arrow:hover:before {color: black;}#sk-container-id-1 div.sk-estimator:hover label.sk-toggleable__label-arrow:before {color: black;}#sk-container-id-1 div.sk-toggleable__content {max-height: 0;max-width: 0;overflow: hidden;text-align: left;background-color: #f0f8ff;}#sk-container-id-1 div.sk-toggleable__content pre {margin: 0.2em;color: black;border-radius: 0.25em;background-color: #f0f8ff;}#sk-container-id-1 input.sk-toggleable__control:checked~div.sk-toggleable__content {max-height: 200px;max-width: 100%;overflow: auto;}#sk-container-id-1 input.sk-toggleable__control:checked~label.sk-toggleable__label-arrow:before {content: \"▾\";}#sk-container-id-1 div.sk-estimator input.sk-toggleable__control:checked~label.sk-toggleable__label {background-color: #d4ebff;}#sk-container-id-1 div.sk-label input.sk-toggleable__control:checked~label.sk-toggleable__label {background-color: #d4ebff;}#sk-container-id-1 input.sk-hidden--visually {border: 0;clip: rect(1px 1px 1px 1px);clip: rect(1px, 1px, 1px, 1px);height: 1px;margin: -1px;overflow: hidden;padding: 0;position: absolute;width: 1px;}#sk-container-id-1 div.sk-estimator {font-family: monospace;background-color: #f0f8ff;border: 1px dotted black;border-radius: 0.25em;box-sizing: border-box;margin-bottom: 0.5em;}#sk-container-id-1 div.sk-estimator:hover {background-color: #d4ebff;}#sk-container-id-1 div.sk-parallel-item::after {content: \"\";width: 100%;border-bottom: 1px solid gray;flex-grow: 1;}#sk-container-id-1 div.sk-label:hover label.sk-toggleable__label {background-color: #d4ebff;}#sk-container-id-1 div.sk-serial::before {content: \"\";position: absolute;border-left: 1px solid gray;box-sizing: border-box;top: 0;bottom: 0;left: 50%;z-index: 0;}#sk-container-id-1 div.sk-serial {display: flex;flex-direction: column;align-items: center;background-color: white;padding-right: 0.2em;padding-left: 0.2em;position: relative;}#sk-container-id-1 div.sk-item {position: relative;z-index: 1;}#sk-container-id-1 div.sk-parallel {display: flex;align-items: stretch;justify-content: center;background-color: white;position: relative;}#sk-container-id-1 div.sk-item::before, #sk-container-id-1 div.sk-parallel-item::before {content: \"\";position: absolute;border-left: 1px solid gray;box-sizing: border-box;top: 0;bottom: 0;left: 50%;z-index: -1;}#sk-container-id-1 div.sk-parallel-item {display: flex;flex-direction: column;z-index: 1;position: relative;background-color: white;}#sk-container-id-1 div.sk-parallel-item:first-child::after {align-self: flex-end;width: 50%;}#sk-container-id-1 div.sk-parallel-item:last-child::after {align-self: flex-start;width: 50%;}#sk-container-id-1 div.sk-parallel-item:only-child::after {width: 0;}#sk-container-id-1 div.sk-dashed-wrapped {border: 1px dashed gray;margin: 0 0.4em 0.5em 0.4em;box-sizing: border-box;padding-bottom: 0.4em;background-color: white;}#sk-container-id-1 div.sk-label label {font-family: monospace;font-weight: bold;display: inline-block;line-height: 1.2em;}#sk-container-id-1 div.sk-label-container {text-align: center;}#sk-container-id-1 div.sk-container {/* jupyter's `normalize.less` sets `[hidden] { display: none; }` but bootstrap.min.css set `[hidden] { display: none !important; }` so we also need the `!important` here to be able to override the default hidden behavior on the sphinx rendered scikit-learn.org. See: https://github.com/scikit-learn/scikit-learn/issues/21755 */display: inline-block !important;position: relative;}#sk-container-id-1 div.sk-text-repr-fallback {display: none;}</style><div id=\"sk-container-id-1\" class=\"sk-top-container\"><div class=\"sk-text-repr-fallback\"><pre>GridSearchCV(cv=5, estimator=KNeighborsClassifier(),\n",
       "             param_grid={&#x27;n_neighbors&#x27;: [3, 4, 5, 6, 7, 8, 9, 10]})</pre><b>In a Jupyter environment, please rerun this cell to show the HTML representation or trust the notebook. <br />On GitHub, the HTML representation is unable to render, please try loading this page with nbviewer.org.</b></div><div class=\"sk-container\" hidden><div class=\"sk-item sk-dashed-wrapped\"><div class=\"sk-label-container\"><div class=\"sk-label sk-toggleable\"><input class=\"sk-toggleable__control sk-hidden--visually\" id=\"sk-estimator-id-1\" type=\"checkbox\" ><label for=\"sk-estimator-id-1\" class=\"sk-toggleable__label sk-toggleable__label-arrow\">GridSearchCV</label><div class=\"sk-toggleable__content\"><pre>GridSearchCV(cv=5, estimator=KNeighborsClassifier(),\n",
       "             param_grid={&#x27;n_neighbors&#x27;: [3, 4, 5, 6, 7, 8, 9, 10]})</pre></div></div></div><div class=\"sk-parallel\"><div class=\"sk-parallel-item\"><div class=\"sk-item\"><div class=\"sk-label-container\"><div class=\"sk-label sk-toggleable\"><input class=\"sk-toggleable__control sk-hidden--visually\" id=\"sk-estimator-id-2\" type=\"checkbox\" ><label for=\"sk-estimator-id-2\" class=\"sk-toggleable__label sk-toggleable__label-arrow\">estimator: KNeighborsClassifier</label><div class=\"sk-toggleable__content\"><pre>KNeighborsClassifier()</pre></div></div></div><div class=\"sk-serial\"><div class=\"sk-item\"><div class=\"sk-estimator sk-toggleable\"><input class=\"sk-toggleable__control sk-hidden--visually\" id=\"sk-estimator-id-3\" type=\"checkbox\" ><label for=\"sk-estimator-id-3\" class=\"sk-toggleable__label sk-toggleable__label-arrow\">KNeighborsClassifier</label><div class=\"sk-toggleable__content\"><pre>KNeighborsClassifier()</pre></div></div></div></div></div></div></div></div></div></div>"
      ],
      "text/plain": [
       "GridSearchCV(cv=5, estimator=KNeighborsClassifier(),\n",
       "             param_grid={'n_neighbors': [3, 4, 5, 6, 7, 8, 9, 10]})"
      ]
     },
     "execution_count": 40,
     "metadata": {},
     "output_type": "execute_result"
    }
   ],
   "source": [
    "clf = GridSearchCV(KNeighborsClassifier(),{'n_neighbors': [3,4,5,6,7,8,9,10]}, cv=5, return_train_score=False)\n",
    "clf.fit(X_train, y_train)"
   ]
  },
  {
   "cell_type": "code",
   "execution_count": 41,
   "id": "a0eb02c1",
   "metadata": {},
   "outputs": [
    {
     "data": {
      "text/html": [
       "<div>\n",
       "<style scoped>\n",
       "    .dataframe tbody tr th:only-of-type {\n",
       "        vertical-align: middle;\n",
       "    }\n",
       "\n",
       "    .dataframe tbody tr th {\n",
       "        vertical-align: top;\n",
       "    }\n",
       "\n",
       "    .dataframe thead th {\n",
       "        text-align: right;\n",
       "    }\n",
       "</style>\n",
       "<table border=\"1\" class=\"dataframe\">\n",
       "  <thead>\n",
       "    <tr style=\"text-align: right;\">\n",
       "      <th></th>\n",
       "      <th>mean_fit_time</th>\n",
       "      <th>std_fit_time</th>\n",
       "      <th>mean_score_time</th>\n",
       "      <th>std_score_time</th>\n",
       "      <th>param_n_neighbors</th>\n",
       "      <th>params</th>\n",
       "      <th>split0_test_score</th>\n",
       "      <th>split1_test_score</th>\n",
       "      <th>split2_test_score</th>\n",
       "      <th>split3_test_score</th>\n",
       "      <th>split4_test_score</th>\n",
       "      <th>mean_test_score</th>\n",
       "      <th>std_test_score</th>\n",
       "      <th>rank_test_score</th>\n",
       "    </tr>\n",
       "  </thead>\n",
       "  <tbody>\n",
       "    <tr>\n",
       "      <th>0</th>\n",
       "      <td>0.002574</td>\n",
       "      <td>0.000464</td>\n",
       "      <td>0.019987</td>\n",
       "      <td>0.017024</td>\n",
       "      <td>3</td>\n",
       "      <td>{'n_neighbors': 3}</td>\n",
       "      <td>0.992063</td>\n",
       "      <td>0.984127</td>\n",
       "      <td>0.988048</td>\n",
       "      <td>0.976096</td>\n",
       "      <td>0.988048</td>\n",
       "      <td>0.985676</td>\n",
       "      <td>0.005408</td>\n",
       "      <td>2</td>\n",
       "    </tr>\n",
       "    <tr>\n",
       "      <th>1</th>\n",
       "      <td>0.002183</td>\n",
       "      <td>0.000106</td>\n",
       "      <td>0.010785</td>\n",
       "      <td>0.001050</td>\n",
       "      <td>4</td>\n",
       "      <td>{'n_neighbors': 4}</td>\n",
       "      <td>0.992063</td>\n",
       "      <td>0.980159</td>\n",
       "      <td>0.984064</td>\n",
       "      <td>0.972112</td>\n",
       "      <td>0.988048</td>\n",
       "      <td>0.983289</td>\n",
       "      <td>0.006855</td>\n",
       "      <td>4</td>\n",
       "    </tr>\n",
       "    <tr>\n",
       "      <th>2</th>\n",
       "      <td>0.002127</td>\n",
       "      <td>0.000133</td>\n",
       "      <td>0.010453</td>\n",
       "      <td>0.000262</td>\n",
       "      <td>5</td>\n",
       "      <td>{'n_neighbors': 5}</td>\n",
       "      <td>0.988095</td>\n",
       "      <td>0.984127</td>\n",
       "      <td>0.984064</td>\n",
       "      <td>0.988048</td>\n",
       "      <td>0.988048</td>\n",
       "      <td>0.986476</td>\n",
       "      <td>0.001944</td>\n",
       "      <td>1</td>\n",
       "    </tr>\n",
       "    <tr>\n",
       "      <th>3</th>\n",
       "      <td>0.002156</td>\n",
       "      <td>0.000122</td>\n",
       "      <td>0.010713</td>\n",
       "      <td>0.000323</td>\n",
       "      <td>6</td>\n",
       "      <td>{'n_neighbors': 6}</td>\n",
       "      <td>0.988095</td>\n",
       "      <td>0.980159</td>\n",
       "      <td>0.980080</td>\n",
       "      <td>0.976096</td>\n",
       "      <td>0.988048</td>\n",
       "      <td>0.982495</td>\n",
       "      <td>0.004784</td>\n",
       "      <td>5</td>\n",
       "    </tr>\n",
       "    <tr>\n",
       "      <th>4</th>\n",
       "      <td>0.002208</td>\n",
       "      <td>0.000094</td>\n",
       "      <td>0.013074</td>\n",
       "      <td>0.002964</td>\n",
       "      <td>7</td>\n",
       "      <td>{'n_neighbors': 7}</td>\n",
       "      <td>0.984127</td>\n",
       "      <td>0.980159</td>\n",
       "      <td>0.988048</td>\n",
       "      <td>0.980080</td>\n",
       "      <td>0.988048</td>\n",
       "      <td>0.984092</td>\n",
       "      <td>0.003546</td>\n",
       "      <td>3</td>\n",
       "    </tr>\n",
       "    <tr>\n",
       "      <th>5</th>\n",
       "      <td>0.002172</td>\n",
       "      <td>0.000136</td>\n",
       "      <td>0.011388</td>\n",
       "      <td>0.001351</td>\n",
       "      <td>8</td>\n",
       "      <td>{'n_neighbors': 8}</td>\n",
       "      <td>0.984127</td>\n",
       "      <td>0.968254</td>\n",
       "      <td>0.980080</td>\n",
       "      <td>0.976096</td>\n",
       "      <td>0.984064</td>\n",
       "      <td>0.978524</td>\n",
       "      <td>0.005931</td>\n",
       "      <td>7</td>\n",
       "    </tr>\n",
       "    <tr>\n",
       "      <th>6</th>\n",
       "      <td>0.002185</td>\n",
       "      <td>0.000094</td>\n",
       "      <td>0.010987</td>\n",
       "      <td>0.000420</td>\n",
       "      <td>9</td>\n",
       "      <td>{'n_neighbors': 9}</td>\n",
       "      <td>0.984127</td>\n",
       "      <td>0.976190</td>\n",
       "      <td>0.980080</td>\n",
       "      <td>0.980080</td>\n",
       "      <td>0.988048</td>\n",
       "      <td>0.981705</td>\n",
       "      <td>0.004045</td>\n",
       "      <td>6</td>\n",
       "    </tr>\n",
       "    <tr>\n",
       "      <th>7</th>\n",
       "      <td>0.002182</td>\n",
       "      <td>0.000124</td>\n",
       "      <td>0.010613</td>\n",
       "      <td>0.000146</td>\n",
       "      <td>10</td>\n",
       "      <td>{'n_neighbors': 10}</td>\n",
       "      <td>0.984127</td>\n",
       "      <td>0.976190</td>\n",
       "      <td>0.980080</td>\n",
       "      <td>0.968127</td>\n",
       "      <td>0.984064</td>\n",
       "      <td>0.978518</td>\n",
       "      <td>0.005967</td>\n",
       "      <td>8</td>\n",
       "    </tr>\n",
       "  </tbody>\n",
       "</table>\n",
       "</div>"
      ],
      "text/plain": [
       "   mean_fit_time  std_fit_time  mean_score_time  std_score_time  \\\n",
       "0       0.002574      0.000464         0.019987        0.017024   \n",
       "1       0.002183      0.000106         0.010785        0.001050   \n",
       "2       0.002127      0.000133         0.010453        0.000262   \n",
       "3       0.002156      0.000122         0.010713        0.000323   \n",
       "4       0.002208      0.000094         0.013074        0.002964   \n",
       "5       0.002172      0.000136         0.011388        0.001351   \n",
       "6       0.002185      0.000094         0.010987        0.000420   \n",
       "7       0.002182      0.000124         0.010613        0.000146   \n",
       "\n",
       "  param_n_neighbors               params  split0_test_score  \\\n",
       "0                 3   {'n_neighbors': 3}           0.992063   \n",
       "1                 4   {'n_neighbors': 4}           0.992063   \n",
       "2                 5   {'n_neighbors': 5}           0.988095   \n",
       "3                 6   {'n_neighbors': 6}           0.988095   \n",
       "4                 7   {'n_neighbors': 7}           0.984127   \n",
       "5                 8   {'n_neighbors': 8}           0.984127   \n",
       "6                 9   {'n_neighbors': 9}           0.984127   \n",
       "7                10  {'n_neighbors': 10}           0.984127   \n",
       "\n",
       "   split1_test_score  split2_test_score  split3_test_score  split4_test_score  \\\n",
       "0           0.984127           0.988048           0.976096           0.988048   \n",
       "1           0.980159           0.984064           0.972112           0.988048   \n",
       "2           0.984127           0.984064           0.988048           0.988048   \n",
       "3           0.980159           0.980080           0.976096           0.988048   \n",
       "4           0.980159           0.988048           0.980080           0.988048   \n",
       "5           0.968254           0.980080           0.976096           0.984064   \n",
       "6           0.976190           0.980080           0.980080           0.988048   \n",
       "7           0.976190           0.980080           0.968127           0.984064   \n",
       "\n",
       "   mean_test_score  std_test_score  rank_test_score  \n",
       "0         0.985676        0.005408                2  \n",
       "1         0.983289        0.006855                4  \n",
       "2         0.986476        0.001944                1  \n",
       "3         0.982495        0.004784                5  \n",
       "4         0.984092        0.003546                3  \n",
       "5         0.978524        0.005931                7  \n",
       "6         0.981705        0.004045                6  \n",
       "7         0.978518        0.005967                8  "
      ]
     },
     "execution_count": 41,
     "metadata": {},
     "output_type": "execute_result"
    }
   ],
   "source": [
    "pd.DataFrame(clf.cv_results_)"
   ]
  },
  {
   "cell_type": "code",
   "execution_count": 42,
   "id": "db1f3114",
   "metadata": {},
   "outputs": [
    {
     "data": {
      "text/html": [
       "<style>#sk-container-id-2 {color: black;background-color: white;}#sk-container-id-2 pre{padding: 0;}#sk-container-id-2 div.sk-toggleable {background-color: white;}#sk-container-id-2 label.sk-toggleable__label {cursor: pointer;display: block;width: 100%;margin-bottom: 0;padding: 0.3em;box-sizing: border-box;text-align: center;}#sk-container-id-2 label.sk-toggleable__label-arrow:before {content: \"▸\";float: left;margin-right: 0.25em;color: #696969;}#sk-container-id-2 label.sk-toggleable__label-arrow:hover:before {color: black;}#sk-container-id-2 div.sk-estimator:hover label.sk-toggleable__label-arrow:before {color: black;}#sk-container-id-2 div.sk-toggleable__content {max-height: 0;max-width: 0;overflow: hidden;text-align: left;background-color: #f0f8ff;}#sk-container-id-2 div.sk-toggleable__content pre {margin: 0.2em;color: black;border-radius: 0.25em;background-color: #f0f8ff;}#sk-container-id-2 input.sk-toggleable__control:checked~div.sk-toggleable__content {max-height: 200px;max-width: 100%;overflow: auto;}#sk-container-id-2 input.sk-toggleable__control:checked~label.sk-toggleable__label-arrow:before {content: \"▾\";}#sk-container-id-2 div.sk-estimator input.sk-toggleable__control:checked~label.sk-toggleable__label {background-color: #d4ebff;}#sk-container-id-2 div.sk-label input.sk-toggleable__control:checked~label.sk-toggleable__label {background-color: #d4ebff;}#sk-container-id-2 input.sk-hidden--visually {border: 0;clip: rect(1px 1px 1px 1px);clip: rect(1px, 1px, 1px, 1px);height: 1px;margin: -1px;overflow: hidden;padding: 0;position: absolute;width: 1px;}#sk-container-id-2 div.sk-estimator {font-family: monospace;background-color: #f0f8ff;border: 1px dotted black;border-radius: 0.25em;box-sizing: border-box;margin-bottom: 0.5em;}#sk-container-id-2 div.sk-estimator:hover {background-color: #d4ebff;}#sk-container-id-2 div.sk-parallel-item::after {content: \"\";width: 100%;border-bottom: 1px solid gray;flex-grow: 1;}#sk-container-id-2 div.sk-label:hover label.sk-toggleable__label {background-color: #d4ebff;}#sk-container-id-2 div.sk-serial::before {content: \"\";position: absolute;border-left: 1px solid gray;box-sizing: border-box;top: 0;bottom: 0;left: 50%;z-index: 0;}#sk-container-id-2 div.sk-serial {display: flex;flex-direction: column;align-items: center;background-color: white;padding-right: 0.2em;padding-left: 0.2em;position: relative;}#sk-container-id-2 div.sk-item {position: relative;z-index: 1;}#sk-container-id-2 div.sk-parallel {display: flex;align-items: stretch;justify-content: center;background-color: white;position: relative;}#sk-container-id-2 div.sk-item::before, #sk-container-id-2 div.sk-parallel-item::before {content: \"\";position: absolute;border-left: 1px solid gray;box-sizing: border-box;top: 0;bottom: 0;left: 50%;z-index: -1;}#sk-container-id-2 div.sk-parallel-item {display: flex;flex-direction: column;z-index: 1;position: relative;background-color: white;}#sk-container-id-2 div.sk-parallel-item:first-child::after {align-self: flex-end;width: 50%;}#sk-container-id-2 div.sk-parallel-item:last-child::after {align-self: flex-start;width: 50%;}#sk-container-id-2 div.sk-parallel-item:only-child::after {width: 0;}#sk-container-id-2 div.sk-dashed-wrapped {border: 1px dashed gray;margin: 0 0.4em 0.5em 0.4em;box-sizing: border-box;padding-bottom: 0.4em;background-color: white;}#sk-container-id-2 div.sk-label label {font-family: monospace;font-weight: bold;display: inline-block;line-height: 1.2em;}#sk-container-id-2 div.sk-label-container {text-align: center;}#sk-container-id-2 div.sk-container {/* jupyter's `normalize.less` sets `[hidden] { display: none; }` but bootstrap.min.css set `[hidden] { display: none !important; }` so we also need the `!important` here to be able to override the default hidden behavior on the sphinx rendered scikit-learn.org. See: https://github.com/scikit-learn/scikit-learn/issues/21755 */display: inline-block !important;position: relative;}#sk-container-id-2 div.sk-text-repr-fallback {display: none;}</style><div id=\"sk-container-id-2\" class=\"sk-top-container\"><div class=\"sk-text-repr-fallback\"><pre>KNeighborsClassifier()</pre><b>In a Jupyter environment, please rerun this cell to show the HTML representation or trust the notebook. <br />On GitHub, the HTML representation is unable to render, please try loading this page with nbviewer.org.</b></div><div class=\"sk-container\" hidden><div class=\"sk-item\"><div class=\"sk-estimator sk-toggleable\"><input class=\"sk-toggleable__control sk-hidden--visually\" id=\"sk-estimator-id-4\" type=\"checkbox\" checked><label for=\"sk-estimator-id-4\" class=\"sk-toggleable__label sk-toggleable__label-arrow\">KNeighborsClassifier</label><div class=\"sk-toggleable__content\"><pre>KNeighborsClassifier()</pre></div></div></div></div></div>"
      ],
      "text/plain": [
       "KNeighborsClassifier()"
      ]
     },
     "execution_count": 42,
     "metadata": {},
     "output_type": "execute_result"
    }
   ],
   "source": [
    "knn = KNeighborsClassifier(n_neighbors=5)\n",
    "knn.fit(X_train, y_train)"
   ]
  },
  {
   "cell_type": "code",
   "execution_count": 28,
   "id": "1adf1ffd",
   "metadata": {},
   "outputs": [
    {
     "name": "stdout",
     "output_type": "stream",
     "text": [
      "(132, 13) (132,) (45, 13) (45,)\n"
     ]
    }
   ],
   "source": [
    "x_train, x_test, y_train, y_test = train_test_split(x, y, test_size=0.25)\n",
    "print (x_train.shape, y_train.shape, x_test.shape, y_test.shape)"
   ]
  },
  {
   "cell_type": "code",
   "execution_count": 43,
   "id": "51f373e0",
   "metadata": {},
   "outputs": [
    {
     "data": {
      "text/plain": [
       "0.9740740740740741"
      ]
     },
     "execution_count": 43,
     "metadata": {},
     "output_type": "execute_result"
    }
   ],
   "source": [
    "knn.score(X_test, y_test)"
   ]
  },
  {
   "cell_type": "code",
   "execution_count": null,
   "id": "9a5dcc3d",
   "metadata": {},
   "outputs": [],
   "source": []
  },
  {
   "cell_type": "code",
   "execution_count": null,
   "id": "e4a7129b",
   "metadata": {},
   "outputs": [],
   "source": [
    "#### END YOUR CODE"
   ]
  },
  {
   "cell_type": "markdown",
   "id": "b33e8fb0",
   "metadata": {},
   "source": [
    "### Q 1.3 Train K-Neighbor Classifier. - (5 marks)"
   ]
  },
  {
   "cell_type": "code",
   "execution_count": 31,
   "id": "d68e941f",
   "metadata": {},
   "outputs": [
    {
     "ename": "NameError",
     "evalue": "name 'StandardScaler' is not defined",
     "output_type": "error",
     "traceback": [
      "\u001b[0;31m---------------------------------------------------------------------------\u001b[0m",
      "\u001b[0;31mNameError\u001b[0m                                 Traceback (most recent call last)",
      "Cell \u001b[0;32mIn[31], line 2\u001b[0m\n\u001b[1;32m      1\u001b[0m \u001b[38;5;66;03m#### START YOUR CODE\u001b[39;00m\n\u001b[0;32m----> 2\u001b[0m scaler \u001b[38;5;241m=\u001b[39m \u001b[43mStandardScaler\u001b[49m()\n\u001b[1;32m      3\u001b[0m x_train \u001b[38;5;241m=\u001b[39m scaler\u001b[38;5;241m.\u001b[39mfit_transform(x_train)\n\u001b[1;32m      4\u001b[0m x_test \u001b[38;5;241m=\u001b[39m scaler\u001b[38;5;241m.\u001b[39mtransform(y_test)\n",
      "\u001b[0;31mNameError\u001b[0m: name 'StandardScaler' is not defined"
     ]
    }
   ],
   "source": [
    "#### START YOUR CODE\n",
    "scaler = StandardScaler()\n",
    "x_train = scaler.fit_transform(x_train)\n",
    "x_test = scaler.transform(y_test)"
   ]
  },
  {
   "cell_type": "code",
   "execution_count": 32,
   "id": "8f01fe14",
   "metadata": {},
   "outputs": [
    {
     "ename": "NameError",
     "evalue": "name 'KNeighborsClassifier' is not defined",
     "output_type": "error",
     "traceback": [
      "\u001b[0;31m---------------------------------------------------------------------------\u001b[0m",
      "\u001b[0;31mNameError\u001b[0m                                 Traceback (most recent call last)",
      "Cell \u001b[0;32mIn[32], line 1\u001b[0m\n\u001b[0;32m----> 1\u001b[0m knn \u001b[38;5;241m=\u001b[39m \u001b[43mKNeighborsClassifier\u001b[49m(n_neighbors\u001b[38;5;241m=\u001b[39m\u001b[38;5;241m3\u001b[39m)\n\u001b[1;32m      2\u001b[0m knn\u001b[38;5;241m.\u001b[39mfit(x_train, y_train)\n\u001b[1;32m      3\u001b[0m \u001b[38;5;66;03m#### END YOUR CODE\u001b[39;00m\n",
      "\u001b[0;31mNameError\u001b[0m: name 'KNeighborsClassifier' is not defined"
     ]
    }
   ],
   "source": [
    "knn = KNeighborsClassifier(n_neighbors=3)\n",
    "knn.fit(x_train, y_train)\n",
    "#### END YOUR CODE"
   ]
  },
  {
   "cell_type": "markdown",
   "id": "fc0a7ad1",
   "metadata": {},
   "source": [
    "### Q 1.4 Make prediction on test set, and print confusion matrix. - (5 marks)"
   ]
  },
  {
   "cell_type": "code",
   "execution_count": null,
   "id": "0663ef46",
   "metadata": {},
   "outputs": [],
   "source": [
    "#### START YOUR CODE\n",
    "\n",
    "\n",
    "#### END YOUR CODE"
   ]
  },
  {
   "cell_type": "markdown",
   "id": "ba734aa2",
   "metadata": {},
   "source": [
    "## Question 2\n",
    "<div class=\"alert alert-block alert-warning\" style=\"font-family: Arial; font-size:1.2em;\"> \n",
    "    Using <b>Wines</b> dataset, classify using TensorFlow <i>Sequential Model</i>. Dataset is provided with the question.\n",
    "    </div>"
   ]
  },
  {
   "cell_type": "markdown",
   "id": "1d00347f",
   "metadata": {},
   "source": [
    "**Dataset Information:**\n",
    "\n",
    "**Reference**\n",
    "[Wine DataSet](https://archive.ics.uci.edu/ml/datasets/wine)\n",
    "\n",
    "These data are the results of a chemical analysis of wines grown in the same region in Italy but derived from three different cultivators. The analysis determined the quantities of 13 constituents found in each of the three types of wines.\n",
    "\n",
    "I think that the initial data set had around 30 variables, but for some reason I only have the 13 dimensional version. I had a list of what the 30 or so variables were, but a.) I lost it, and b.), I would not know which 13 variables are included in the set.\n",
    "\n",
    "The attributes are (donated by Riccardo Leardi, riclea '@' anchem.unige.it )\n",
    "1. Alcohol\n",
    "2. Malic acid\n",
    "3. Ash\n",
    "4. Alcalinity of ash\n",
    "5. Magnesium\n",
    "6. Total phenols\n",
    "7. Flavanoids\n",
    "8. Nonflavanoid phenols\n",
    "9. Proanthocyanins\n",
    "10. Color intensity\n",
    "11. Hue\n",
    "12. OD280/OD315 of diluted wines\n",
    "13. Proline\n",
    "\n",
    "\n",
    "**Attribute Information:**\n",
    "\n",
    "All attributes are continuous\n",
    "\n",
    "**NOTE:** 1st attribute is class identifier (1-3)\n",
    "\n",
    "### Q 2.1 Import all the libraries you may need for successful execution of your code. - (2 marks)"
   ]
  },
  {
   "cell_type": "code",
   "execution_count": null,
   "id": "401ca3fd",
   "metadata": {},
   "outputs": [],
   "source": [
    "#### START YOUR CODE\n",
    "\n",
    "\n",
    "#### END YOUR CODE"
   ]
  },
  {
   "cell_type": "markdown",
   "id": "bdd65a4f",
   "metadata": {},
   "source": [
    "### Q 2.2 Hyper-Parameters and others. - (3 marks)\n",
    "\n",
    "**Note:** Declaration of Hyper-Parameters elsewhere should be avoided. "
   ]
  },
  {
   "cell_type": "code",
   "execution_count": null,
   "id": "c6280012",
   "metadata": {},
   "outputs": [],
   "source": [
    "#### START YOUR CODE\n",
    "\n",
    "\n",
    "#### END YOUR CODE"
   ]
  },
  {
   "cell_type": "markdown",
   "id": "5e45e6de",
   "metadata": {},
   "source": [
    "## Helper Function\n",
    "\n",
    "<div class=\"alert alert-block alert-warning\" style=\"font-family: Arial; font-size:1.2em;\"> \n",
    "    <b>Following is to assist you in plotting loss and accuracy curves.</b>\n",
    "The helper function is given for your convenience. Feel free to modify as deemed fit.\n",
    "    </div>"
   ]
  },
  {
   "cell_type": "code",
   "execution_count": null,
   "id": "f3c60adc",
   "metadata": {},
   "outputs": [],
   "source": [
    "def fn_plot_hist(hist_df):\n",
    "    \n",
    "    # instantiate plt object with 1 row two columns\n",
    "    fig, axes = plt.subplots(1,2 , figsize = (15,6)) \n",
    "\n",
    "    # propertiesfor matplotlib.patch.Patch \n",
    "    props = dict(boxstyle='round', \n",
    "                 facecolor='aqua', \n",
    "                 alpha=0.4)\n",
    "\n",
    "    ax = axes[0]\n",
    "\n",
    "    # plot loss columns of the dataframe\n",
    "    hist_df.plot(y = ['loss','val_loss'], ax = ax, colormap=CMAP)\n",
    "\n",
    "    # mark min loss and min val_loss\n",
    "    lossmin = hist_df['loss'].min()\n",
    "    testmin = hist_df['val_loss'].min()\n",
    "\n",
    "    # little beautification\n",
    "    txtstr = \"Min Loss: \\n Training : {:7.4f}\\n Testing   : {:7.4f}\".format(lossmin,\n",
    "                                                                            testmin) #text to plot\n",
    "\n",
    "    # place a text box in upper left in axis coords\n",
    "    ax.text(0.4, 0.95, txtstr, transform=ax.transAxes, fontsize=14,\n",
    "            verticalalignment='top', bbox=props)\n",
    "\n",
    "    # set labels on the axes\n",
    "    ax.set_xlabel(\"Epochs\")\n",
    "\n",
    "    ax.set_ylabel(\"Loss\")\n",
    "\n",
    "    # show grid\n",
    "    ax.grid();\n",
    "\n",
    "    # for second figure\n",
    "    ax = axes[1]\n",
    "\n",
    "    # plot accuracy and val_accuracy\n",
    "    hist_df.plot( y = ['accuracy', 'val_accuracy'], ax = ax, colormap=CMAP)\n",
    "    \n",
    "\n",
    "    # get max accuracies\n",
    "    accmax = hist_df['accuracy'].max()\n",
    "    testmax = hist_df['val_accuracy'].max()\n",
    "    \n",
    "    # little beautification\n",
    "    txtstr = \"Max Accuracy: \\n Training : {:7.4f}\\n Testing   : {:7.4f}\".format(accmax,\n",
    "                                                                                testmax) #text to plot\n",
    "\n",
    "    # place a text box in upper left in axis coords\n",
    "    ax.text(0.4, 0.5, txtstr, transform=ax.transAxes, fontsize=14,\n",
    "            verticalalignment='top', bbox=props)\n",
    "\n",
    "    # mark labels\n",
    "    ax.set_xlabel(\"Epochs\")\n",
    "    ax.set_ylabel(\"Accuracy\")\n",
    "    \n",
    "    # show grid\n",
    "    ax.grid();\n",
    "    \n",
    "    # organise subplot params so that the subplots fit in to the figure area\n",
    "    plt.tight_layout()"
   ]
  },
  {
   "cell_type": "markdown",
   "id": "c27362f8",
   "metadata": {},
   "source": [
    "### Q 2.3 Load Data  and prepare train and test sets from the data. - (5 marks)\n",
    "\n",
    "**Note:** \n",
    "1. Use of any **other** dataset will make this submission **invalid**.\n",
    "2. The information provided in this Notebook is sufficient to enter column names.\n",
    "3. You may also use `wine.names` file for column names"
   ]
  },
  {
   "cell_type": "code",
   "execution_count": null,
   "id": "b4b2416f",
   "metadata": {},
   "outputs": [],
   "source": [
    "#### START YOUR CODE\n",
    "\n",
    "\n",
    "#### END YOUR CODE"
   ]
  },
  {
   "cell_type": "markdown",
   "id": "567dc77f",
   "metadata": {},
   "source": [
    "### Q 2.4 Declare your model, compile and fit the model. - **(5 marks)**\n",
    "\n",
    "1. Specify kernel initializer.\n",
    "2. Prepare model using Sequential class of TensorFlow with one Hidden Layer and one output layer."
   ]
  },
  {
   "cell_type": "code",
   "execution_count": null,
   "id": "5e89fff4",
   "metadata": {},
   "outputs": [],
   "source": [
    "#### START YOUR CODE\n",
    "\n",
    "\n",
    "#### END YOUR CODE"
   ]
  },
  {
   "cell_type": "markdown",
   "id": "0512c402",
   "metadata": {},
   "source": [
    "### Q 2.5 Plot loss and accuracy curves and comment on loss curve. - (5 marks)"
   ]
  },
  {
   "cell_type": "code",
   "execution_count": null,
   "id": "94e7878c",
   "metadata": {},
   "outputs": [],
   "source": [
    "#### START YOUR CODE\n",
    "\n",
    "\n",
    "#### END YOUR CODE"
   ]
  },
  {
   "cell_type": "code",
   "execution_count": null,
   "id": "41a150c6",
   "metadata": {},
   "outputs": [],
   "source": []
  }
 ],
 "metadata": {
  "kernelspec": {
   "display_name": "Python 3 (ipykernel)",
   "language": "python",
   "name": "python3"
  },
  "language_info": {
   "codemirror_mode": {
    "name": "ipython",
    "version": 3
   },
   "file_extension": ".py",
   "mimetype": "text/x-python",
   "name": "python",
   "nbconvert_exporter": "python",
   "pygments_lexer": "ipython3",
   "version": "3.10.7"
  }
 },
 "nbformat": 4,
 "nbformat_minor": 5
}
