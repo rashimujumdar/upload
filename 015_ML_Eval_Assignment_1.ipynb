{
 "cells": [
  {
   "cell_type": "code",
   "execution_count": null,
   "id": "db7a56bd",
   "metadata": {},
   "outputs": [],
   "source": [
    "#!/usr/bin/env python3\n",
    "# -*- coding: utf-8 -*-"
   ]
  },
  {
   "cell_type": "markdown",
   "id": "e0d6f09d",
   "metadata": {},
   "source": [
    "**PRN**:                  220940141015<br>\n",
    "**Name of Student**:      Pankaj Gharde<br>\n",
    "**Date of Submission**:   Feb 22, 2023<br>"
   ]
  },
  {
   "cell_type": "markdown",
   "id": "4be194ce",
   "metadata": {},
   "source": [
    "# Introduction to Machine Learning, Artificial Intelligence and Deep Learning\n",
    "## PG-DHPCAP September 2022\n",
    "\n",
    "\n",
    "# Lab Exam 1\n",
    "## Total marks: 40"
   ]
  },
  {
   "cell_type": "markdown",
   "id": "2688bdb6",
   "metadata": {},
   "source": [
    "## Instruction:\n",
    "<div class=\"alert alert-block alert-warning\" style=\"font-family: Arial; font-size:1.2em;\">   \n",
    "   <b>Follow these instructions carefully.</b>\n",
    "       <li>Your code shall be free of any compilation error. If your code fails in compilation, your submission will be <b><i>rejected</i></b>.</li>\n",
    "       <li>Put comments to explain your code. Explain your steps in details. Marks depend on the comments/explanation.</li>\n",
    "       <li>Do not <b>REMOVE</b> any cell.If you delete any cell, your submission may become invalid.</li>\n",
    "       <li>Your code shall be within the lines marked for the purpose.</li>\n",
    "       <li>Upload the file to the designated location by renaming as <strong>PRN_{PRN # last 3 digits}_ML_Eval_Assignment_1.ipynb</strong></li>\n",
    "    </ol>\n",
    "    <b>Important:</b>Your code shall be between lines marked thus. \n",
    "</div>\n",
    "\n",
    ">`#### START YOUR CODE`\n",
    "\n",
    "\n",
    "\n",
    ">`#### END YOUR CODE`"
   ]
  },
  {
   "cell_type": "markdown",
   "id": "47cda774",
   "metadata": {},
   "source": [
    "## Question 1\n",
    "<div class=\"alert alert-block alert-warning\" style=\"font-family: Arial; font-size:1.2em;\">   \n",
    "    Load <b>Digits</b> Data set from SKLearn and classify using <b>K-nearest neighbors</b>.\n",
    "    </div>"
   ]
  },
  {
   "cell_type": "markdown",
   "id": "f2f42ac4",
   "metadata": {},
   "source": [
    "### Q 1.1 Import Statements (5 marks)\n",
    "\n",
    "Import all the libraries you may need for successful execution of your code."
   ]
  },
  {
   "cell_type": "code",
   "execution_count": 5,
   "id": "92194a7d",
   "metadata": {},
   "outputs": [],
   "source": [
    "#### START YOUR CODE\n",
    "import numpy as np\n",
    "import pandas as pd\n",
    "from sklearn import datasets\n",
    "from sklearn.model_selection import train_test_split\n",
    "#### END YOUR CODE"
   ]
  },
  {
   "cell_type": "markdown",
   "id": "70b778f1",
   "metadata": {},
   "source": [
    "### Q 1.2 Load dataset and split in test and training dataset. -  (5 marks)"
   ]
  },
  {
   "cell_type": "code",
   "execution_count": 2,
   "id": "2513ae3d",
   "metadata": {},
   "outputs": [],
   "source": [
    "#### START YOUR CODE\n",
    "dataset = pd.read_csv(\"./wine.data\")\n",
    "#### END YOUR CODE"
   ]
  },
  {
   "cell_type": "code",
   "execution_count": 4,
   "id": "f3a5291d",
   "metadata": {},
   "outputs": [
    {
     "name": "stdout",
     "output_type": "stream",
     "text": [
      "<class 'pandas.core.frame.DataFrame'>\n",
      "RangeIndex: 177 entries, 0 to 176\n",
      "Data columns (total 14 columns):\n",
      " #   Column  Non-Null Count  Dtype  \n",
      "---  ------  --------------  -----  \n",
      " 0   1       177 non-null    int64  \n",
      " 1   14.23   177 non-null    float64\n",
      " 2   1.71    177 non-null    float64\n",
      " 3   2.43    177 non-null    float64\n",
      " 4   15.6    177 non-null    float64\n",
      " 5   127     177 non-null    int64  \n",
      " 6   2.8     177 non-null    float64\n",
      " 7   3.06    177 non-null    float64\n",
      " 8   .28     177 non-null    float64\n",
      " 9   2.29    177 non-null    float64\n",
      " 10  5.64    177 non-null    float64\n",
      " 11  1.04    177 non-null    float64\n",
      " 12  3.92    177 non-null    float64\n",
      " 13  1065    177 non-null    int64  \n",
      "dtypes: float64(11), int64(3)\n",
      "memory usage: 19.5 KB\n"
     ]
    }
   ],
   "source": [
    "dataset.info()"
   ]
  },
  {
   "cell_type": "code",
   "execution_count": null,
   "id": "a1573c50",
   "metadata": {},
   "outputs": [],
   "source": []
  },
  {
   "cell_type": "markdown",
   "id": "b33e8fb0",
   "metadata": {},
   "source": [
    "### Q 1.3 Train K-Neighbor Classifier. - (5 marks)"
   ]
  },
  {
   "cell_type": "code",
   "execution_count": null,
   "id": "d68e941f",
   "metadata": {},
   "outputs": [],
   "source": [
    "#### START YOUR CODE\n",
    "\n",
    "\n",
    "#### END YOUR CODE"
   ]
  },
  {
   "cell_type": "markdown",
   "id": "fc0a7ad1",
   "metadata": {},
   "source": [
    "### Q 1.4 Make prediction on test set, and print confusion matrix. - (5 marks)"
   ]
  },
  {
   "cell_type": "code",
   "execution_count": null,
   "id": "0663ef46",
   "metadata": {},
   "outputs": [],
   "source": [
    "#### START YOUR CODE\n",
    "\n",
    "\n",
    "#### END YOUR CODE"
   ]
  },
  {
   "cell_type": "markdown",
   "id": "ba734aa2",
   "metadata": {},
   "source": [
    "## Question 2\n",
    "<div class=\"alert alert-block alert-warning\" style=\"font-family: Arial; font-size:1.2em;\"> \n",
    "    Using <b>Wines</b> dataset, classify using TensorFlow <i>Sequential Model</i>. Dataset is provided with the question.\n",
    "    </div>"
   ]
  },
  {
   "cell_type": "markdown",
   "id": "1d00347f",
   "metadata": {},
   "source": [
    "**Dataset Information:**\n",
    "\n",
    "**Reference**\n",
    "[Wine DataSet](https://archive.ics.uci.edu/ml/datasets/wine)\n",
    "\n",
    "These data are the results of a chemical analysis of wines grown in the same region in Italy but derived from three different cultivators. The analysis determined the quantities of 13 constituents found in each of the three types of wines.\n",
    "\n",
    "I think that the initial data set had around 30 variables, but for some reason I only have the 13 dimensional version. I had a list of what the 30 or so variables were, but a.) I lost it, and b.), I would not know which 13 variables are included in the set.\n",
    "\n",
    "The attributes are (donated by Riccardo Leardi, riclea '@' anchem.unige.it )\n",
    "1. Alcohol\n",
    "2. Malic acid\n",
    "3. Ash\n",
    "4. Alcalinity of ash\n",
    "5. Magnesium\n",
    "6. Total phenols\n",
    "7. Flavanoids\n",
    "8. Nonflavanoid phenols\n",
    "9. Proanthocyanins\n",
    "10. Color intensity\n",
    "11. Hue\n",
    "12. OD280/OD315 of diluted wines\n",
    "13. Proline\n",
    "\n",
    "\n",
    "**Attribute Information:**\n",
    "\n",
    "All attributes are continuous\n",
    "\n",
    "**NOTE:** 1st attribute is class identifier (1-3)\n",
    "\n",
    "### Q 2.1 Import all the libraries you may need for successful execution of your code. - (2 marks)"
   ]
  },
  {
   "cell_type": "code",
   "execution_count": null,
   "id": "401ca3fd",
   "metadata": {},
   "outputs": [],
   "source": [
    "#### START YOUR CODE\n",
    "\n",
    "\n",
    "#### END YOUR CODE"
   ]
  },
  {
   "cell_type": "markdown",
   "id": "bdd65a4f",
   "metadata": {},
   "source": [
    "### Q 2.2 Hyper-Parameters and others. - (3 marks)\n",
    "\n",
    "**Note:** Declaration of Hyper-Parameters elsewhere should be avoided. "
   ]
  },
  {
   "cell_type": "code",
   "execution_count": null,
   "id": "c6280012",
   "metadata": {},
   "outputs": [],
   "source": [
    "#### START YOUR CODE\n",
    "\n",
    "\n",
    "#### END YOUR CODE"
   ]
  },
  {
   "cell_type": "markdown",
   "id": "5e45e6de",
   "metadata": {},
   "source": [
    "## Helper Function\n",
    "\n",
    "<div class=\"alert alert-block alert-warning\" style=\"font-family: Arial; font-size:1.2em;\"> \n",
    "    <b>Following is to assist you in plotting loss and accuracy curves.</b>\n",
    "The helper function is given for your convenience. Feel free to modify as deemed fit.\n",
    "    </div>"
   ]
  },
  {
   "cell_type": "code",
   "execution_count": null,
   "id": "f3c60adc",
   "metadata": {},
   "outputs": [],
   "source": [
    "def fn_plot_hist(hist_df):\n",
    "    \n",
    "    # instantiate plt object with 1 row two columns\n",
    "    fig, axes = plt.subplots(1,2 , figsize = (15,6)) \n",
    "\n",
    "    # propertiesfor matplotlib.patch.Patch \n",
    "    props = dict(boxstyle='round', \n",
    "                 facecolor='aqua', \n",
    "                 alpha=0.4)\n",
    "\n",
    "    ax = axes[0]\n",
    "\n",
    "    # plot loss columns of the dataframe\n",
    "    hist_df.plot(y = ['loss','val_loss'], ax = ax, colormap=CMAP)\n",
    "\n",
    "    # mark min loss and min val_loss\n",
    "    lossmin = hist_df['loss'].min()\n",
    "    testmin = hist_df['val_loss'].min()\n",
    "\n",
    "    # little beautification\n",
    "    txtstr = \"Min Loss: \\n Training : {:7.4f}\\n Testing   : {:7.4f}\".format(lossmin,\n",
    "                                                                            testmin) #text to plot\n",
    "\n",
    "    # place a text box in upper left in axis coords\n",
    "    ax.text(0.4, 0.95, txtstr, transform=ax.transAxes, fontsize=14,\n",
    "            verticalalignment='top', bbox=props)\n",
    "\n",
    "    # set labels on the axes\n",
    "    ax.set_xlabel(\"Epochs\")\n",
    "\n",
    "    ax.set_ylabel(\"Loss\")\n",
    "\n",
    "    # show grid\n",
    "    ax.grid();\n",
    "\n",
    "    # for second figure\n",
    "    ax = axes[1]\n",
    "\n",
    "    # plot accuracy and val_accuracy\n",
    "    hist_df.plot( y = ['accuracy', 'val_accuracy'], ax = ax, colormap=CMAP)\n",
    "    \n",
    "\n",
    "    # get max accuracies\n",
    "    accmax = hist_df['accuracy'].max()\n",
    "    testmax = hist_df['val_accuracy'].max()\n",
    "    \n",
    "    # little beautification\n",
    "    txtstr = \"Max Accuracy: \\n Training : {:7.4f}\\n Testing   : {:7.4f}\".format(accmax,\n",
    "                                                                                testmax) #text to plot\n",
    "\n",
    "    # place a text box in upper left in axis coords\n",
    "    ax.text(0.4, 0.5, txtstr, transform=ax.transAxes, fontsize=14,\n",
    "            verticalalignment='top', bbox=props)\n",
    "\n",
    "    # mark labels\n",
    "    ax.set_xlabel(\"Epochs\")\n",
    "    ax.set_ylabel(\"Accuracy\")\n",
    "    \n",
    "    # show grid\n",
    "    ax.grid();\n",
    "    \n",
    "    # organise subplot params so that the subplots fit in to the figure area\n",
    "    plt.tight_layout()"
   ]
  },
  {
   "cell_type": "markdown",
   "id": "c27362f8",
   "metadata": {},
   "source": [
    "### Q 2.3 Load Data  and prepare train and test sets from the data. - (5 marks)\n",
    "\n",
    "**Note:** \n",
    "1. Use of any **other** dataset will make this submission **invalid**.\n",
    "2. The information provided in this Notebook is sufficient to enter column names.\n",
    "3. You may also use `wine.names` file for column names"
   ]
  },
  {
   "cell_type": "code",
   "execution_count": null,
   "id": "b4b2416f",
   "metadata": {},
   "outputs": [],
   "source": [
    "#### START YOUR CODE\n",
    "\n",
    "\n",
    "#### END YOUR CODE"
   ]
  },
  {
   "cell_type": "markdown",
   "id": "567dc77f",
   "metadata": {},
   "source": [
    "### Q 2.4 Declare your model, compile and fit the model. - **(5 marks)**\n",
    "\n",
    "1. Specify kernel initializer.\n",
    "2. Prepare model using Sequential class of TensorFlow with one Hidden Layer and one output layer."
   ]
  },
  {
   "cell_type": "code",
   "execution_count": null,
   "id": "5e89fff4",
   "metadata": {},
   "outputs": [],
   "source": [
    "#### START YOUR CODE\n",
    "\n",
    "\n",
    "#### END YOUR CODE"
   ]
  },
  {
   "cell_type": "markdown",
   "id": "0512c402",
   "metadata": {},
   "source": [
    "### Q 2.5 Plot loss and accuracy curves and comment on loss curve. - (5 marks)"
   ]
  },
  {
   "cell_type": "code",
   "execution_count": null,
   "id": "94e7878c",
   "metadata": {},
   "outputs": [],
   "source": [
    "#### START YOUR CODE\n",
    "\n",
    "\n",
    "#### END YOUR CODE"
   ]
  },
  {
   "cell_type": "code",
   "execution_count": null,
   "id": "41a150c6",
   "metadata": {},
   "outputs": [],
   "source": []
  }
 ],
 "metadata": {
  "kernelspec": {
   "display_name": "Python 3 (ipykernel)",
   "language": "python",
   "name": "python3"
  },
  "language_info": {
   "codemirror_mode": {
    "name": "ipython",
    "version": 3
   },
   "file_extension": ".py",
   "mimetype": "text/x-python",
   "name": "python",
   "nbconvert_exporter": "python",
   "pygments_lexer": "ipython3",
   "version": "3.10.7"
  }
 },
 "nbformat": 4,
 "nbformat_minor": 5
}
